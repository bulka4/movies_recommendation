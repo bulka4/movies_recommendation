{
 "cells": [
  {
   "cell_type": "markdown",
   "id": "00284ec4-749a-4ca5-89d0-93c54e5654e9",
   "metadata": {
    "tags": []
   },
   "source": [
    "## importing"
   ]
  },
  {
   "cell_type": "code",
   "execution_count": 1,
   "id": "c599c51f-1fac-429f-a89f-c5b4d537a1a4",
   "metadata": {},
   "outputs": [],
   "source": [
    "import pandas as pd\n",
    "import numpy as np\n",
    "\n",
    "from scipy.sparse.linalg import svds\n",
    "from sklearn.model_selection import train_test_split\n",
    "\n",
    "from sklearn.metrics.pairwise import cosine_similarity"
   ]
  },
  {
   "cell_type": "code",
   "execution_count": 2,
   "id": "0e8be948-caa1-4fce-9119-f2a36bb0ca22",
   "metadata": {},
   "outputs": [],
   "source": [
    "movies = pd.read_csv('data/ml-latest-small/ml-latest-small/movies.csv')\n",
    "ratings = pd.read_csv('data/ml-latest-small/ml-latest-small/ratings.csv')"
   ]
  },
  {
   "cell_type": "markdown",
   "id": "5da52946-6c1b-4627-b263-c9dbcbd67ef4",
   "metadata": {
    "tags": []
   },
   "source": [
    "## recommendations using correlations"
   ]
  },
  {
   "cell_type": "code",
   "execution_count": 3,
   "id": "85a03b04-dfad-4ed3-8d7d-791908156cbe",
   "metadata": {},
   "outputs": [
    {
     "data": {
      "text/html": [
       "<div>\n",
       "<style scoped>\n",
       "    .dataframe tbody tr th:only-of-type {\n",
       "        vertical-align: middle;\n",
       "    }\n",
       "\n",
       "    .dataframe tbody tr th {\n",
       "        vertical-align: top;\n",
       "    }\n",
       "\n",
       "    .dataframe thead th {\n",
       "        text-align: right;\n",
       "    }\n",
       "</style>\n",
       "<table border=\"1\" class=\"dataframe\">\n",
       "  <thead>\n",
       "    <tr style=\"text-align: right;\">\n",
       "      <th></th>\n",
       "      <th>movieId</th>\n",
       "      <th>title</th>\n",
       "      <th>genres</th>\n",
       "      <th>userId</th>\n",
       "      <th>rating</th>\n",
       "      <th>timestamp</th>\n",
       "    </tr>\n",
       "  </thead>\n",
       "  <tbody>\n",
       "    <tr>\n",
       "      <th>0</th>\n",
       "      <td>1</td>\n",
       "      <td>Toy Story (1995)</td>\n",
       "      <td>Adventure|Animation|Children|Comedy|Fantasy</td>\n",
       "      <td>1</td>\n",
       "      <td>4.0</td>\n",
       "      <td>964982703</td>\n",
       "    </tr>\n",
       "    <tr>\n",
       "      <th>1</th>\n",
       "      <td>1</td>\n",
       "      <td>Toy Story (1995)</td>\n",
       "      <td>Adventure|Animation|Children|Comedy|Fantasy</td>\n",
       "      <td>5</td>\n",
       "      <td>4.0</td>\n",
       "      <td>847434962</td>\n",
       "    </tr>\n",
       "    <tr>\n",
       "      <th>2</th>\n",
       "      <td>1</td>\n",
       "      <td>Toy Story (1995)</td>\n",
       "      <td>Adventure|Animation|Children|Comedy|Fantasy</td>\n",
       "      <td>7</td>\n",
       "      <td>4.5</td>\n",
       "      <td>1106635946</td>\n",
       "    </tr>\n",
       "    <tr>\n",
       "      <th>3</th>\n",
       "      <td>1</td>\n",
       "      <td>Toy Story (1995)</td>\n",
       "      <td>Adventure|Animation|Children|Comedy|Fantasy</td>\n",
       "      <td>15</td>\n",
       "      <td>2.5</td>\n",
       "      <td>1510577970</td>\n",
       "    </tr>\n",
       "    <tr>\n",
       "      <th>4</th>\n",
       "      <td>1</td>\n",
       "      <td>Toy Story (1995)</td>\n",
       "      <td>Adventure|Animation|Children|Comedy|Fantasy</td>\n",
       "      <td>17</td>\n",
       "      <td>4.5</td>\n",
       "      <td>1305696483</td>\n",
       "    </tr>\n",
       "  </tbody>\n",
       "</table>\n",
       "</div>"
      ],
      "text/plain": [
       "   movieId             title                                       genres  \\\n",
       "0        1  Toy Story (1995)  Adventure|Animation|Children|Comedy|Fantasy   \n",
       "1        1  Toy Story (1995)  Adventure|Animation|Children|Comedy|Fantasy   \n",
       "2        1  Toy Story (1995)  Adventure|Animation|Children|Comedy|Fantasy   \n",
       "3        1  Toy Story (1995)  Adventure|Animation|Children|Comedy|Fantasy   \n",
       "4        1  Toy Story (1995)  Adventure|Animation|Children|Comedy|Fantasy   \n",
       "\n",
       "   userId  rating   timestamp  \n",
       "0       1     4.0   964982703  \n",
       "1       5     4.0   847434962  \n",
       "2       7     4.5  1106635946  \n",
       "3      15     2.5  1510577970  \n",
       "4      17     4.5  1305696483  "
      ]
     },
     "execution_count": 3,
     "metadata": {},
     "output_type": "execute_result"
    }
   ],
   "source": [
    "df = pd.merge(movies, ratings, on = 'movieId')\n",
    "df.head()"
   ]
  },
  {
   "cell_type": "code",
   "execution_count": 18,
   "id": "7e40220e-b45c-46d8-bcb2-145a8e731788",
   "metadata": {},
   "outputs": [],
   "source": [
    "# df = df[['movieId', 'userId', 'rating']]\n",
    "\n",
    "# n_movies = df.movieId.nunique()\n",
    "# n_users = df.userId.nunique()\n",
    "\n",
    "# train_data_matrix = np.zeros((n_users, n_movies))\n",
    "# test_data_matrix = np.zeros((n_users, n_movies))\n",
    "\n",
    "# train_data, test_data = train_test_split(df, train_size = 0.25)\n",
    "\n",
    "# user_ids = np.sort(df.userId.unique())\n",
    "# movie_ids = np.sort(df.movieId.unique())\n",
    "\n",
    "# for row in train_data.itertuples():\n",
    "#     movie_id = np.where(movie_ids == row[1])\n",
    "#     user_id = np.where(user_ids == row[2])\n",
    "#     train_data_matrix[user_id, movie_id] = row[3]\n",
    "    \n",
    "# for row in test_data.itertuples():\n",
    "#     movie_id = np.where(movie_ids == row[1])\n",
    "#     user_id = np.where(user_ids == row[2])\n",
    "#     test_data_matrix[user_id, movie_id] = row[3] "
   ]
  },
  {
   "cell_type": "code",
   "execution_count": 59,
   "id": "6d24762f-0dbc-439d-aeec-b8edd55350d7",
   "metadata": {},
   "outputs": [
    {
     "data": {
      "text/html": [
       "<div>\n",
       "<style scoped>\n",
       "    .dataframe tbody tr th:only-of-type {\n",
       "        vertical-align: middle;\n",
       "    }\n",
       "\n",
       "    .dataframe tbody tr th {\n",
       "        vertical-align: top;\n",
       "    }\n",
       "\n",
       "    .dataframe thead th {\n",
       "        text-align: right;\n",
       "    }\n",
       "</style>\n",
       "<table border=\"1\" class=\"dataframe\">\n",
       "  <thead>\n",
       "    <tr style=\"text-align: right;\">\n",
       "      <th>movieId</th>\n",
       "      <th>1</th>\n",
       "      <th>2</th>\n",
       "      <th>3</th>\n",
       "      <th>4</th>\n",
       "      <th>5</th>\n",
       "      <th>6</th>\n",
       "      <th>7</th>\n",
       "      <th>8</th>\n",
       "      <th>9</th>\n",
       "      <th>10</th>\n",
       "      <th>...</th>\n",
       "      <th>193565</th>\n",
       "      <th>193567</th>\n",
       "      <th>193571</th>\n",
       "      <th>193573</th>\n",
       "      <th>193579</th>\n",
       "      <th>193581</th>\n",
       "      <th>193583</th>\n",
       "      <th>193585</th>\n",
       "      <th>193587</th>\n",
       "      <th>193609</th>\n",
       "    </tr>\n",
       "    <tr>\n",
       "      <th>movieId</th>\n",
       "      <th></th>\n",
       "      <th></th>\n",
       "      <th></th>\n",
       "      <th></th>\n",
       "      <th></th>\n",
       "      <th></th>\n",
       "      <th></th>\n",
       "      <th></th>\n",
       "      <th></th>\n",
       "      <th></th>\n",
       "      <th></th>\n",
       "      <th></th>\n",
       "      <th></th>\n",
       "      <th></th>\n",
       "      <th></th>\n",
       "      <th></th>\n",
       "      <th></th>\n",
       "      <th></th>\n",
       "      <th></th>\n",
       "      <th></th>\n",
       "      <th></th>\n",
       "    </tr>\n",
       "  </thead>\n",
       "  <tbody>\n",
       "    <tr>\n",
       "      <th>1</th>\n",
       "      <td>1.000000</td>\n",
       "      <td>0.330978</td>\n",
       "      <td>0.487109</td>\n",
       "      <td>1.000000</td>\n",
       "      <td>0.310971</td>\n",
       "      <td>0.106465</td>\n",
       "      <td>0.208402</td>\n",
       "      <td>0.968246</td>\n",
       "      <td>0.095913</td>\n",
       "      <td>-0.021409</td>\n",
       "      <td>...</td>\n",
       "      <td>NaN</td>\n",
       "      <td>NaN</td>\n",
       "      <td>NaN</td>\n",
       "      <td>NaN</td>\n",
       "      <td>NaN</td>\n",
       "      <td>NaN</td>\n",
       "      <td>NaN</td>\n",
       "      <td>NaN</td>\n",
       "      <td>NaN</td>\n",
       "      <td>NaN</td>\n",
       "    </tr>\n",
       "    <tr>\n",
       "      <th>2</th>\n",
       "      <td>0.330978</td>\n",
       "      <td>1.000000</td>\n",
       "      <td>0.419564</td>\n",
       "      <td>NaN</td>\n",
       "      <td>0.562791</td>\n",
       "      <td>0.163510</td>\n",
       "      <td>0.430261</td>\n",
       "      <td>0.415227</td>\n",
       "      <td>0.277350</td>\n",
       "      <td>0.016626</td>\n",
       "      <td>...</td>\n",
       "      <td>NaN</td>\n",
       "      <td>NaN</td>\n",
       "      <td>NaN</td>\n",
       "      <td>NaN</td>\n",
       "      <td>NaN</td>\n",
       "      <td>NaN</td>\n",
       "      <td>NaN</td>\n",
       "      <td>NaN</td>\n",
       "      <td>NaN</td>\n",
       "      <td>NaN</td>\n",
       "    </tr>\n",
       "    <tr>\n",
       "      <th>3</th>\n",
       "      <td>0.487109</td>\n",
       "      <td>0.419564</td>\n",
       "      <td>1.000000</td>\n",
       "      <td>NaN</td>\n",
       "      <td>0.602266</td>\n",
       "      <td>0.345069</td>\n",
       "      <td>0.554088</td>\n",
       "      <td>0.333333</td>\n",
       "      <td>0.458591</td>\n",
       "      <td>-0.050276</td>\n",
       "      <td>...</td>\n",
       "      <td>NaN</td>\n",
       "      <td>NaN</td>\n",
       "      <td>NaN</td>\n",
       "      <td>NaN</td>\n",
       "      <td>NaN</td>\n",
       "      <td>NaN</td>\n",
       "      <td>NaN</td>\n",
       "      <td>NaN</td>\n",
       "      <td>NaN</td>\n",
       "      <td>NaN</td>\n",
       "    </tr>\n",
       "    <tr>\n",
       "      <th>4</th>\n",
       "      <td>1.000000</td>\n",
       "      <td>NaN</td>\n",
       "      <td>NaN</td>\n",
       "      <td>1.000000</td>\n",
       "      <td>0.654654</td>\n",
       "      <td>NaN</td>\n",
       "      <td>0.203653</td>\n",
       "      <td>NaN</td>\n",
       "      <td>NaN</td>\n",
       "      <td>0.870388</td>\n",
       "      <td>...</td>\n",
       "      <td>NaN</td>\n",
       "      <td>NaN</td>\n",
       "      <td>NaN</td>\n",
       "      <td>NaN</td>\n",
       "      <td>NaN</td>\n",
       "      <td>NaN</td>\n",
       "      <td>NaN</td>\n",
       "      <td>NaN</td>\n",
       "      <td>NaN</td>\n",
       "      <td>NaN</td>\n",
       "    </tr>\n",
       "    <tr>\n",
       "      <th>5</th>\n",
       "      <td>0.310971</td>\n",
       "      <td>0.562791</td>\n",
       "      <td>0.602266</td>\n",
       "      <td>0.654654</td>\n",
       "      <td>1.000000</td>\n",
       "      <td>0.291302</td>\n",
       "      <td>0.609119</td>\n",
       "      <td>0.555556</td>\n",
       "      <td>0.319173</td>\n",
       "      <td>0.218263</td>\n",
       "      <td>...</td>\n",
       "      <td>NaN</td>\n",
       "      <td>NaN</td>\n",
       "      <td>NaN</td>\n",
       "      <td>NaN</td>\n",
       "      <td>NaN</td>\n",
       "      <td>NaN</td>\n",
       "      <td>NaN</td>\n",
       "      <td>NaN</td>\n",
       "      <td>NaN</td>\n",
       "      <td>NaN</td>\n",
       "    </tr>\n",
       "  </tbody>\n",
       "</table>\n",
       "<p>5 rows × 9724 columns</p>\n",
       "</div>"
      ],
      "text/plain": [
       "movieId    1         2         3         4         5         6         7       \\\n",
       "movieId                                                                         \n",
       "1        1.000000  0.330978  0.487109  1.000000  0.310971  0.106465  0.208402   \n",
       "2        0.330978  1.000000  0.419564       NaN  0.562791  0.163510  0.430261   \n",
       "3        0.487109  0.419564  1.000000       NaN  0.602266  0.345069  0.554088   \n",
       "4        1.000000       NaN       NaN  1.000000  0.654654       NaN  0.203653   \n",
       "5        0.310971  0.562791  0.602266  0.654654  1.000000  0.291302  0.609119   \n",
       "\n",
       "movieId    8         9         10      ...  193565  193567  193571  193573  \\\n",
       "movieId                                ...                                   \n",
       "1        0.968246  0.095913 -0.021409  ...     NaN     NaN     NaN     NaN   \n",
       "2        0.415227  0.277350  0.016626  ...     NaN     NaN     NaN     NaN   \n",
       "3        0.333333  0.458591 -0.050276  ...     NaN     NaN     NaN     NaN   \n",
       "4             NaN       NaN  0.870388  ...     NaN     NaN     NaN     NaN   \n",
       "5        0.555556  0.319173  0.218263  ...     NaN     NaN     NaN     NaN   \n",
       "\n",
       "movieId  193579  193581  193583  193585  193587  193609  \n",
       "movieId                                                  \n",
       "1           NaN     NaN     NaN     NaN     NaN     NaN  \n",
       "2           NaN     NaN     NaN     NaN     NaN     NaN  \n",
       "3           NaN     NaN     NaN     NaN     NaN     NaN  \n",
       "4           NaN     NaN     NaN     NaN     NaN     NaN  \n",
       "5           NaN     NaN     NaN     NaN     NaN     NaN  \n",
       "\n",
       "[5 rows x 9724 columns]"
      ]
     },
     "execution_count": 59,
     "metadata": {},
     "output_type": "execute_result"
    }
   ],
   "source": [
    "correlations = pd.pivot_table(data = df, index = 'userId', columns = 'movieId', values = 'rating').corr()\n",
    "correlations.head()"
   ]
  },
  {
   "cell_type": "code",
   "execution_count": 115,
   "id": "83f9b3ea-2ef1-4b59-b139-e2ea588e2482",
   "metadata": {},
   "outputs": [],
   "source": [
    "def recomended_movies(movieId):\n",
    "    recom_movies = correlations[movieId].sort_values(ascending = False).dropna()\n",
    "    \n",
    "    # mean rating of movies with at least 25 ratings\n",
    "    no_ratings = ratings.movieId.value_counts()\n",
    "    no_ratings = no_ratings[no_ratings >= 25]\n",
    "    movies_lot_ratings = no_ratings.index\n",
    "    movies_lot_ratings = ratings.set_index('movieId').loc[movies_lot_ratings].reset_index()\n",
    "    movies_lot_ratings = movies_lot_ratings[['movieId', 'rating']].groupby('movieId').mean().sort_values('rating', ascending = False)\n",
    "\n",
    "    # check if there is at least 5 correlated movies (movies such that at least 1 person saw these movies and the movie given as argument to this function)\n",
    "    if len(recom_movies) >= 5:\n",
    "        ids = np.array(recom_movies.index[1:6])\n",
    "        titles = movies.set_index('movieId').loc[ids].title.values\n",
    "    else:\n",
    "        ids = np.array(recom_movies.index[1:])\n",
    "        titles = movies.set_index('movieId').loc[ids].title.values\n",
    "        \n",
    "        # if there is no 5 correlated movies other recommendations are best rated movies\n",
    "        ids = np.concatenate((ids, movies_lot_ratings.index[ : 5 - len(ids)]))\n",
    "        titles = np.concatenate((titles, movies.set_index('movieId').loc[ids].title.values))\n",
    "    \n",
    "    return {'movies_ids': ids, 'movies_titles': titles}"
   ]
  },
  {
   "cell_type": "code",
   "execution_count": 116,
   "id": "f966cb82-b0b4-4a3e-9f60-8c525e88df1f",
   "metadata": {},
   "outputs": [
    {
     "data": {
      "text/plain": [
       "{'movies_ids': array([ 318,  922,  898,  475, 1204], dtype=int64),\n",
       " 'movies_titles': array(['Shawshank Redemption, The (1994)',\n",
       "        'Sunset Blvd. (a.k.a. Sunset Boulevard) (1950)',\n",
       "        'Philadelphia Story, The (1940)',\n",
       "        'In the Name of the Father (1993)', 'Lawrence of Arabia (1962)'],\n",
       "       dtype=object)}"
      ]
     },
     "execution_count": 116,
     "metadata": {},
     "output_type": "execute_result"
    }
   ],
   "source": [
    "recomended_movies(49)"
   ]
  },
  {
   "cell_type": "code",
   "execution_count": null,
   "id": "7009cd44-b711-46f0-a9fe-26fb65cf4025",
   "metadata": {},
   "outputs": [],
   "source": []
  },
  {
   "cell_type": "markdown",
   "id": "1de1245f-5ebd-4e48-a02e-d200ee69acd9",
   "metadata": {
    "tags": []
   },
   "source": [
    "## collaborative filtering"
   ]
  },
  {
   "cell_type": "code",
   "execution_count": 10,
   "id": "048e372a-fb04-473a-b9c7-1bae95729ebe",
   "metadata": {},
   "outputs": [
    {
     "data": {
      "text/html": [
       "<div>\n",
       "<style scoped>\n",
       "    .dataframe tbody tr th:only-of-type {\n",
       "        vertical-align: middle;\n",
       "    }\n",
       "\n",
       "    .dataframe tbody tr th {\n",
       "        vertical-align: top;\n",
       "    }\n",
       "\n",
       "    .dataframe thead th {\n",
       "        text-align: right;\n",
       "    }\n",
       "</style>\n",
       "<table border=\"1\" class=\"dataframe\">\n",
       "  <thead>\n",
       "    <tr style=\"text-align: right;\">\n",
       "      <th></th>\n",
       "      <th>movieId</th>\n",
       "      <th>title</th>\n",
       "      <th>genres</th>\n",
       "      <th>userId</th>\n",
       "      <th>rating</th>\n",
       "      <th>timestamp</th>\n",
       "    </tr>\n",
       "  </thead>\n",
       "  <tbody>\n",
       "    <tr>\n",
       "      <th>0</th>\n",
       "      <td>1</td>\n",
       "      <td>Toy Story (1995)</td>\n",
       "      <td>Adventure|Animation|Children|Comedy|Fantasy</td>\n",
       "      <td>1</td>\n",
       "      <td>4.0</td>\n",
       "      <td>964982703</td>\n",
       "    </tr>\n",
       "    <tr>\n",
       "      <th>1</th>\n",
       "      <td>1</td>\n",
       "      <td>Toy Story (1995)</td>\n",
       "      <td>Adventure|Animation|Children|Comedy|Fantasy</td>\n",
       "      <td>5</td>\n",
       "      <td>4.0</td>\n",
       "      <td>847434962</td>\n",
       "    </tr>\n",
       "    <tr>\n",
       "      <th>2</th>\n",
       "      <td>1</td>\n",
       "      <td>Toy Story (1995)</td>\n",
       "      <td>Adventure|Animation|Children|Comedy|Fantasy</td>\n",
       "      <td>7</td>\n",
       "      <td>4.5</td>\n",
       "      <td>1106635946</td>\n",
       "    </tr>\n",
       "    <tr>\n",
       "      <th>3</th>\n",
       "      <td>1</td>\n",
       "      <td>Toy Story (1995)</td>\n",
       "      <td>Adventure|Animation|Children|Comedy|Fantasy</td>\n",
       "      <td>15</td>\n",
       "      <td>2.5</td>\n",
       "      <td>1510577970</td>\n",
       "    </tr>\n",
       "    <tr>\n",
       "      <th>4</th>\n",
       "      <td>1</td>\n",
       "      <td>Toy Story (1995)</td>\n",
       "      <td>Adventure|Animation|Children|Comedy|Fantasy</td>\n",
       "      <td>17</td>\n",
       "      <td>4.5</td>\n",
       "      <td>1305696483</td>\n",
       "    </tr>\n",
       "  </tbody>\n",
       "</table>\n",
       "</div>"
      ],
      "text/plain": [
       "   movieId             title                                       genres  \\\n",
       "0        1  Toy Story (1995)  Adventure|Animation|Children|Comedy|Fantasy   \n",
       "1        1  Toy Story (1995)  Adventure|Animation|Children|Comedy|Fantasy   \n",
       "2        1  Toy Story (1995)  Adventure|Animation|Children|Comedy|Fantasy   \n",
       "3        1  Toy Story (1995)  Adventure|Animation|Children|Comedy|Fantasy   \n",
       "4        1  Toy Story (1995)  Adventure|Animation|Children|Comedy|Fantasy   \n",
       "\n",
       "   userId  rating   timestamp  \n",
       "0       1     4.0   964982703  \n",
       "1       5     4.0   847434962  \n",
       "2       7     4.5  1106635946  \n",
       "3      15     2.5  1510577970  \n",
       "4      17     4.5  1305696483  "
      ]
     },
     "execution_count": 10,
     "metadata": {},
     "output_type": "execute_result"
    }
   ],
   "source": [
    "df = pd.merge(movies, ratings, on = 'movieId')\n",
    "df.head()"
   ]
  },
  {
   "cell_type": "code",
   "execution_count": 13,
   "id": "5f4c1fed-543c-46d7-8665-54b9f9746f29",
   "metadata": {},
   "outputs": [],
   "source": [
    "# creating train_data_matrix and test_data_matrix, such that train_data_matrix[i, j] is a rating of user with id = user_ids[i] for movie with id = movie_ids[j]. \n",
    "# If rate = 0 then given user didn't see that movie.\n",
    "\n",
    "n_users = df.userId.nunique()\n",
    "n_items = df.movieId.nunique()\n",
    "\n",
    "train_data_matrix = np.zeros((n_users, n_items))\n",
    "test_data_matrix = np.zeros((n_users, n_items))\n",
    "\n",
    "train_data, test_data = train_test_split(df, test_size = 0.25)\n",
    "\n",
    "user_ids = np.sort(df.userId.unique())\n",
    "movie_ids = np.sort(df.movieId.unique())\n",
    "\n",
    "train_data, test_data = train_test_split(df, test_size = 0.25)\n",
    "\n",
    "for row in train_data.itertuples():\n",
    "    user_id = np.where(user_ids == row[4])[0][0]\n",
    "    movie_id = np.where(movie_ids == row[1])[0][0]\n",
    "    rating = row[5]\n",
    "    \n",
    "    train_data_matrix[user_id, movie_id] = rating\n",
    "    \n",
    "for row in test_data.itertuples():\n",
    "    user_id = np.where(user_ids == row[4])[0][0]\n",
    "    movie_id = np.where(movie_ids == row[1])[0][0]\n",
    "    rating = row[5]\n",
    "    \n",
    "    test_data_matrix[user_id, movie_id] = rating"
   ]
  },
  {
   "cell_type": "code",
   "execution_count": 14,
   "id": "a7be0e05-a89c-4ef7-9f3f-14f160c0e431",
   "metadata": {},
   "outputs": [
    {
     "name": "stdout",
     "output_type": "stream",
     "text": [
      "(610, 9724)\n",
      "(610, 9724)\n"
     ]
    }
   ],
   "source": [
    "print(train_data_matrix.shape)\n",
    "print(test_data_matrix.shape)"
   ]
  },
  {
   "cell_type": "code",
   "execution_count": 15,
   "id": "b7982381-65bb-4ddf-9521-f5e98576c0d3",
   "metadata": {},
   "outputs": [],
   "source": [
    "# create similarity matrixes, user_similarities[i, j] is a similartiy between user with id user_ids[i] and user_ids[j], analogicaly for movies\n",
    "\n",
    "user_similarities = cosine_similarity(train_data_matrix, train_data_matrix)\n",
    "movie_similarities = cosine_similarity(train_data_matrix.T, train_data_matrix.T)\n",
    "\n",
    "# make sure similarities have 1 at diagonal (the same movies or users should have similarity = 1 but vectors with only zeros [0, ..., 0] and [0, ..., 0] have similarity = 0)\n",
    "for i in range(len(user_similarities)):\n",
    "    user_similarities[i,i] = 1\n",
    "    \n",
    "for i in range(len(movie_similarities)):\n",
    "    movie_similarities[i,i] = 1"
   ]
  },
  {
   "cell_type": "code",
   "execution_count": 65,
   "id": "7c0d171c-914c-4b74-9d64-78d4ee967014",
   "metadata": {},
   "outputs": [
    {
     "name": "stdout",
     "output_type": "stream",
     "text": [
      "(610, 610)\n",
      "(9724, 9724)\n"
     ]
    }
   ],
   "source": [
    "print(user_similarities.shape)\n",
    "print(movie_similarities.shape)"
   ]
  },
  {
   "cell_type": "code",
   "execution_count": 67,
   "id": "32b90101-acf6-42fc-929f-58dad2ac8386",
   "metadata": {},
   "outputs": [
    {
     "data": {
      "text/plain": [
       "(610,)"
      ]
     },
     "execution_count": 67,
     "metadata": {},
     "output_type": "execute_result"
    }
   ],
   "source": [
    "train_data_matrix.mean(axis = 1).shape"
   ]
  },
  {
   "cell_type": "code",
   "execution_count": 150,
   "id": "665d387d-b603-4537-976d-14fef11922e9",
   "metadata": {},
   "outputs": [],
   "source": [
    "# function for predicting ratings of users for movies\n",
    "\n",
    "def predict(similarity, Type, ratings):\n",
    "    if Type == 'user':\n",
    "        mean_ratings = ratings.mean(axis = 1)\n",
    "        mean_ratings = mean_ratings.reshape(len(mean_ratings), 1)\n",
    "        \n",
    "        diff_ratings = ratings - mean_ratings\n",
    "        \n",
    "        pred = mean_ratings + np.dot(similarity, diff_ratings) / np.array([np.abs(similarity).sum(axis = 1)]).T\n",
    "        \n",
    "    elif Type == 'item':\n",
    "        pred = np.dot(similarity, ratings.T) / np.array([np.abs(similarity).sum(axis = 1)]).T\n",
    "        \n",
    "    return pred"
   ]
  },
  {
   "cell_type": "code",
   "execution_count": 119,
   "id": "4eb53d4f-aa5c-4c92-9b7d-16b198b2b19f",
   "metadata": {},
   "outputs": [],
   "source": [
    "# calculating root mean square error of predictions\n",
    "\n",
    "def rmse(predictions, real_values):\n",
    "    predictions = predictions.flatten()\n",
    "    real_values = real_values.flatten()\n",
    "\n",
    "    predictions = predictions[np.where(real_values != 0)[0]]\n",
    "    real_values = real_values[np.where(real_values != 0)[0]]\n",
    "\n",
    "    rmse = np.sqrt(((predictions - real_values) ** 2).sum() / len(predictions))\n",
    "    \n",
    "    return rmse"
   ]
  },
  {
   "cell_type": "code",
   "execution_count": 92,
   "id": "126c52de-b18a-4891-8266-1b53493a339f",
   "metadata": {},
   "outputs": [
    {
     "data": {
      "text/plain": [
       "3.1807971312985766"
      ]
     },
     "execution_count": 92,
     "metadata": {},
     "output_type": "execute_result"
    }
   ],
   "source": [
    "predictions = predict(user_similarities, 'user', train_data_matrix)\n",
    "\n",
    "rmse(predictions, test_data_matrix)"
   ]
  },
  {
   "cell_type": "code",
   "execution_count": 171,
   "id": "50ee6f25-a206-4d33-8eaf-9c0c5f1bf036",
   "metadata": {},
   "outputs": [
    {
     "data": {
      "text/plain": [
       "3.588030486986965"
      ]
     },
     "execution_count": 171,
     "metadata": {},
     "output_type": "execute_result"
    }
   ],
   "source": [
    "predictions = predict(movie_similarities, 'item', train_data_matrix)\n",
    "\n",
    "rmse(predictions, test_data_matrix)"
   ]
  },
  {
   "cell_type": "code",
   "execution_count": 92,
   "id": "212ae37a-8374-4b19-81b9-5d91bc15feda",
   "metadata": {},
   "outputs": [],
   "source": [
    "# if Type = 'user', then this function recommend movies by finding similar user and his favourite movies\n",
    "# if Type = 'movie' then this function recommend movies by finding most similar movies to the given movie\n",
    "\n",
    "def recommend_movies(Id, Type):\n",
    "    if Type == 'user':\n",
    "        similarities = user_similarities\n",
    "        \n",
    "        similarity_scores = similarities[np.where(user_ids == Id), :]\n",
    "        similarity_scores = pd.DataFrame({'score': similarity_scores.flatten(), 'userId': user_ids})\n",
    "\n",
    "        similar_user = similarity_scores.sort_values(by = 'score', ascending = False).userId.iloc[1]\n",
    "        recom_movies = df.set_index('userId').loc[similar_user].sort_values(by = 'rating', ascending = False)[['title', 'movieId']].iloc[ : 5]#.title.iloc[ : 5].values\n",
    "        recom_movies = {'movie_id': recom_movies.movieId.values, 'titles': recom_movies.title.values}\n",
    "\n",
    "        return recom_movies\n",
    "    elif Type == 'movie':\n",
    "        similarities = movie_similarities\n",
    "        \n",
    "        similarity_scores = similarities[np.where(movie_ids == Id), :]\n",
    "        similarity_scores = pd.DataFrame({'score': similarity_scores.flatten(), 'movieId': movie_ids})\n",
    "\n",
    "        recom_movie_ids = similarity_scores.sort_values(by = 'score', ascending = False).movieId.iloc[1 : 6].values\n",
    "        recom_movie_titles = df.set_index('movieId').loc[recom_movie_ids].title.unique()\n",
    "\n",
    "        recommendations = {'movie_ids': recom_movie_ids, 'movie_titles': recom_movie_titles}\n",
    "\n",
    "        return recommendations"
   ]
  },
  {
   "cell_type": "code",
   "execution_count": 93,
   "id": "86fc7cff-447a-4096-9c7f-f64f7f8ad2fb",
   "metadata": {},
   "outputs": [
    {
     "data": {
      "text/plain": [
       "{'movie_ids': array([ 480,  648, 2115,  296,  780], dtype=int64),\n",
       " 'movie_titles': array(['Jurassic Park (1993)', 'Mission: Impossible (1996)',\n",
       "        'Indiana Jones and the Temple of Doom (1984)',\n",
       "        'Pulp Fiction (1994)', 'Independence Day (a.k.a. ID4) (1996)'],\n",
       "       dtype=object)}"
      ]
     },
     "execution_count": 93,
     "metadata": {},
     "output_type": "execute_result"
    }
   ],
   "source": [
    "Id = 1\n",
    "recommend_movies(Id, 'movie')"
   ]
  },
  {
   "cell_type": "code",
   "execution_count": 94,
   "id": "d0c26130-3dc7-44a3-b331-c42adfba0652",
   "metadata": {},
   "outputs": [
    {
     "data": {
      "text/plain": [
       "{'movie_id': array([79132, 89745, 79091, 88125, 92259], dtype=int64),\n",
       " 'titles': array(['Inception (2010)', 'Avengers, The (2012)', 'Despicable Me (2010)',\n",
       "        'Harry Potter and the Deathly Hallows: Part 2 (2011)',\n",
       "        'Intouchables (2011)'], dtype=object)}"
      ]
     },
     "execution_count": 94,
     "metadata": {},
     "output_type": "execute_result"
    }
   ],
   "source": [
    "Id = 2\n",
    "recommend_movies(Id, 'user')"
   ]
  },
  {
   "cell_type": "code",
   "execution_count": null,
   "id": "4df32ddf-9955-4cf0-9adb-40cd6f90b416",
   "metadata": {},
   "outputs": [],
   "source": []
  },
  {
   "cell_type": "markdown",
   "id": "61148a9d-b479-42f4-b1f7-fd5a8953d867",
   "metadata": {
    "jp-MarkdownHeadingCollapsed": true,
    "tags": []
   },
   "source": [
    "## SVD"
   ]
  },
  {
   "cell_type": "code",
   "execution_count": 19,
   "id": "3138dc7e-9b05-4966-a29b-aa974ca30e13",
   "metadata": {},
   "outputs": [
    {
     "data": {
      "text/html": [
       "<div>\n",
       "<style scoped>\n",
       "    .dataframe tbody tr th:only-of-type {\n",
       "        vertical-align: middle;\n",
       "    }\n",
       "\n",
       "    .dataframe tbody tr th {\n",
       "        vertical-align: top;\n",
       "    }\n",
       "\n",
       "    .dataframe thead th {\n",
       "        text-align: right;\n",
       "    }\n",
       "</style>\n",
       "<table border=\"1\" class=\"dataframe\">\n",
       "  <thead>\n",
       "    <tr style=\"text-align: right;\">\n",
       "      <th></th>\n",
       "      <th>userId</th>\n",
       "      <th>movieId</th>\n",
       "      <th>rating</th>\n",
       "      <th>timestamp</th>\n",
       "      <th>title</th>\n",
       "      <th>genres</th>\n",
       "    </tr>\n",
       "  </thead>\n",
       "  <tbody>\n",
       "    <tr>\n",
       "      <th>0</th>\n",
       "      <td>1</td>\n",
       "      <td>1</td>\n",
       "      <td>4.0</td>\n",
       "      <td>964982703</td>\n",
       "      <td>Toy Story (1995)</td>\n",
       "      <td>Adventure|Animation|Children|Comedy|Fantasy</td>\n",
       "    </tr>\n",
       "    <tr>\n",
       "      <th>1</th>\n",
       "      <td>5</td>\n",
       "      <td>1</td>\n",
       "      <td>4.0</td>\n",
       "      <td>847434962</td>\n",
       "      <td>Toy Story (1995)</td>\n",
       "      <td>Adventure|Animation|Children|Comedy|Fantasy</td>\n",
       "    </tr>\n",
       "    <tr>\n",
       "      <th>2</th>\n",
       "      <td>7</td>\n",
       "      <td>1</td>\n",
       "      <td>4.5</td>\n",
       "      <td>1106635946</td>\n",
       "      <td>Toy Story (1995)</td>\n",
       "      <td>Adventure|Animation|Children|Comedy|Fantasy</td>\n",
       "    </tr>\n",
       "    <tr>\n",
       "      <th>3</th>\n",
       "      <td>15</td>\n",
       "      <td>1</td>\n",
       "      <td>2.5</td>\n",
       "      <td>1510577970</td>\n",
       "      <td>Toy Story (1995)</td>\n",
       "      <td>Adventure|Animation|Children|Comedy|Fantasy</td>\n",
       "    </tr>\n",
       "    <tr>\n",
       "      <th>4</th>\n",
       "      <td>17</td>\n",
       "      <td>1</td>\n",
       "      <td>4.5</td>\n",
       "      <td>1305696483</td>\n",
       "      <td>Toy Story (1995)</td>\n",
       "      <td>Adventure|Animation|Children|Comedy|Fantasy</td>\n",
       "    </tr>\n",
       "  </tbody>\n",
       "</table>\n",
       "</div>"
      ],
      "text/plain": [
       "   userId  movieId  rating   timestamp             title  \\\n",
       "0       1        1     4.0   964982703  Toy Story (1995)   \n",
       "1       5        1     4.0   847434962  Toy Story (1995)   \n",
       "2       7        1     4.5  1106635946  Toy Story (1995)   \n",
       "3      15        1     2.5  1510577970  Toy Story (1995)   \n",
       "4      17        1     4.5  1305696483  Toy Story (1995)   \n",
       "\n",
       "                                        genres  \n",
       "0  Adventure|Animation|Children|Comedy|Fantasy  \n",
       "1  Adventure|Animation|Children|Comedy|Fantasy  \n",
       "2  Adventure|Animation|Children|Comedy|Fantasy  \n",
       "3  Adventure|Animation|Children|Comedy|Fantasy  \n",
       "4  Adventure|Animation|Children|Comedy|Fantasy  "
      ]
     },
     "execution_count": 19,
     "metadata": {},
     "output_type": "execute_result"
    }
   ],
   "source": [
    "df = pd.merge(ratings, movies, on = 'movieId')\n",
    "df.head()"
   ]
  },
  {
   "cell_type": "code",
   "execution_count": 20,
   "id": "ac3e91dc-d839-4547-a9b2-606f880812d4",
   "metadata": {},
   "outputs": [],
   "source": [
    "n_users = df.userId.nunique()\n",
    "n_items = df.movieId.nunique()\n",
    "\n",
    "train_data_matrix = np.zeros((n_users, n_items))\n",
    "test_data_matrix = np.zeros((n_users, n_items))\n",
    "\n",
    "user_ids = np.sort(df.userId.unique())\n",
    "movie_ids = np.sort(df.movieId.unique())\n",
    "\n",
    "train_data, test_data = train_test_split(df, test_size = 0.25)\n",
    "\n",
    "for row in train_data.itertuples():\n",
    "    user_id = np.where(user_ids == row[1])[0][0]\n",
    "    movie_id = np.where(movie_ids == row[2])[0][0]\n",
    "    rating = row[3]\n",
    "    \n",
    "    train_data_matrix[user_id, movie_id] = rating\n",
    "    \n",
    "for row in test_data.itertuples():\n",
    "    user_id = np.where(user_ids == row[1])[0][0]\n",
    "    movie_id = np.where(movie_ids == row[2])[0][0]\n",
    "    rating = row[3]\n",
    "    \n",
    "    test_data_matrix[user_id, movie_id] = rating"
   ]
  },
  {
   "cell_type": "code",
   "execution_count": 21,
   "id": "0382a5fc-8143-4e66-b9cc-e920fb777695",
   "metadata": {},
   "outputs": [
    {
     "data": {
      "text/plain": [
       "(610, 9724)"
      ]
     },
     "execution_count": 21,
     "metadata": {},
     "output_type": "execute_result"
    }
   ],
   "source": [
    "train_data_matrix.shape"
   ]
  },
  {
   "cell_type": "code",
   "execution_count": 22,
   "id": "6242f630-acb9-4968-a4ca-6a9c8673c461",
   "metadata": {},
   "outputs": [],
   "source": [
    "def rmse(predictions, real_values):\n",
    "    predictions = predictions.flatten()\n",
    "    real_values = real_values.flatten()\n",
    "    \n",
    "    predictions = predictions[np.where(real_values != 0)]\n",
    "    real_values = real_values[np.where(real_values != 0)]\n",
    "    \n",
    "    rmse = np.sqrt(((predictions - real_values) ** 2).sum() / len(predictions))\n",
    "    \n",
    "    print(len(predictions))\n",
    "    \n",
    "    return rmse"
   ]
  },
  {
   "cell_type": "code",
   "execution_count": 23,
   "id": "0815c617-c3d3-489a-82da-93bebf3c7ca1",
   "metadata": {},
   "outputs": [
    {
     "name": "stdout",
     "output_type": "stream",
     "text": [
      "25209\n",
      "User-based CF RMSE: 3.0147315093540685\n"
     ]
    }
   ],
   "source": [
    "u, s, vt = svds(train_data_matrix, k = 5)\n",
    "s_diag_matrix = np.diag(s)\n",
    "X_pred = np.dot(np.dot(u, s_diag_matrix), vt)\n",
    "print('User-based CF RMSE: ' + str(rmse(X_pred, test_data_matrix)))"
   ]
  },
  {
   "cell_type": "code",
   "execution_count": null,
   "id": "a2eccaeb-163f-4bca-bd22-333daca01d62",
   "metadata": {},
   "outputs": [],
   "source": []
  },
  {
   "cell_type": "code",
   "execution_count": null,
   "id": "10cf799a-1a45-4ac6-a45b-e9b3b2368667",
   "metadata": {},
   "outputs": [],
   "source": []
  },
  {
   "cell_type": "code",
   "execution_count": null,
   "id": "22ffcd57-304d-4000-a8a1-74adf96c7d82",
   "metadata": {},
   "outputs": [],
   "source": []
  },
  {
   "cell_type": "code",
   "execution_count": null,
   "id": "0844892f-9fd0-4098-9958-9bed4a59ab26",
   "metadata": {},
   "outputs": [],
   "source": []
  }
 ],
 "metadata": {
  "kernelspec": {
   "display_name": "Python 3 (ipykernel)",
   "language": "python",
   "name": "python3"
  },
  "language_info": {
   "codemirror_mode": {
    "name": "ipython",
    "version": 3
   },
   "file_extension": ".py",
   "mimetype": "text/x-python",
   "name": "python",
   "nbconvert_exporter": "python",
   "pygments_lexer": "ipython3",
   "version": "3.7.9"
  }
 },
 "nbformat": 4,
 "nbformat_minor": 5
}
